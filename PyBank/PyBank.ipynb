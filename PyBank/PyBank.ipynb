{
 "cells": [
  {
   "cell_type": "code",
   "execution_count": null,
   "metadata": {
    "scrolled": false
   },
   "outputs": [],
   "source": [
    "# Step One: Get all my data into a clean data frame that I can manipulate\n",
    "\n",
    "# Import modules that we're going to need\n",
    "import os\n",
    "\n",
    "# Get paths for the file that we're going to be using\n",
    "revenue_file = input(\"Input the path name of the file that you want to analyze! FYI, you're currently at Documents/Github/UCBerkeley_HomeworkAssignment3/ \")\n",
    "\n",
    "# create a data frame\n",
    "revenue_df = pd.read_csv(revenue_file)"
   ]
  },
  {
   "cell_type": "markdown",
   "metadata": {
    "collapsed": true
   },
   "source": [
    "I need to get the following data from analyzing the dataframe I just made: \n",
    "- The total number of months included in the dataset\n",
    "- The total amount of revenue gained over the entire period\n",
    "- The average change in revenue between months over the entire period\n",
    "- The greatest increase in revenue (date and amount) over the entire period\n",
    "- The greatest decrease in revenue (date and amount) over the entire period"
   ]
  },
  {
   "cell_type": "code",
   "execution_count": null,
   "metadata": {
    "collapsed": true
   },
   "outputs": [],
   "source": [
    "# Step 2: Perform analyses\n",
    "\n",
    "# Total number of months\n",
    "count_months = len(revenue_df['Date'].unique())\n",
    "count_months"
   ]
  },
  {
   "cell_type": "code",
   "execution_count": null,
   "metadata": {
    "collapsed": true
   },
   "outputs": [],
   "source": [
    "# Total amount of revenue gained over the entire period\n",
    "total_revenue = revenue_df['Revenue'].sum()\n",
    "total_revenue"
   ]
  },
  {
   "cell_type": "code",
   "execution_count": null,
   "metadata": {
    "collapsed": true
   },
   "outputs": [],
   "source": [
    "# average change in revenue between months over the entire period\n",
    "average_revenue_change = int(revenue_df['Revenue'].sum() / revenue_df['Revenue'].count())\n",
    "average_revenue_change"
   ]
  },
  {
   "cell_type": "code",
   "execution_count": 9,
   "metadata": {},
   "outputs": [
    {
     "data": {
      "text/plain": [
       "38"
      ]
     },
     "execution_count": 9,
     "metadata": {},
     "output_type": "execute_result"
    }
   ],
   "source": [
    "# greatest increase in revenue over the entire period\n",
    "greatest_increase_amount = revenue_df['Revenue'].max()\n",
    "greatest_increase_index = int(revenue_df['Revenue'].idxmax(0))\n",
    "greatest_increase_index\n",
    "\n",
    "#greatest_increase_date = revenue_df.iloc(greatest_increase_index,1)\n",
    "#greatest_increase_date"
   ]
  },
  {
   "cell_type": "code",
   "execution_count": null,
   "metadata": {
    "collapsed": true
   },
   "outputs": [],
   "source": [
    "# greatest decrease in revenue over the entire period\n",
    "greatest_decrease_amount = revenue_df['Revenue'].min()"
   ]
  },
  {
   "cell_type": "code",
   "execution_count": null,
   "metadata": {
    "collapsed": true
   },
   "outputs": [],
   "source": [
    "# Step 3: Return results"
   ]
  }
 ],
 "metadata": {
  "kernelspec": {
   "display_name": "Python [conda env:PythonData]",
   "language": "python",
   "name": "conda-env-PythonData-py"
  },
  "language_info": {
   "codemirror_mode": {
    "name": "ipython",
    "version": 3
   },
   "file_extension": ".py",
   "mimetype": "text/x-python",
   "name": "python",
   "nbconvert_exporter": "python",
   "pygments_lexer": "ipython3",
   "version": "3.6.3"
  }
 },
 "nbformat": 4,
 "nbformat_minor": 2
}
